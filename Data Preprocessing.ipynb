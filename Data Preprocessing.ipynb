{
 "cells": [
  {
   "cell_type": "code",
   "execution_count": 14,
   "metadata": {},
   "outputs": [],
   "source": [
    "# Importing dependencies\n",
    "\n",
    "import os\n",
    "import re\n",
    "import pandas as pd\n",
    "from tqdm import tqdm"
   ]
  },
  {
   "cell_type": "code",
   "execution_count": 2,
   "metadata": {},
   "outputs": [],
   "source": [
    "# Constants\n",
    "DATA_PATH = 'data/trec07p/data'\n",
    "LABEL_PATH = 'data/trec07p/full/index'"
   ]
  },
  {
   "cell_type": "code",
   "execution_count": 3,
   "metadata": {},
   "outputs": [
    {
     "data": {
      "text/html": [
       "<div>\n",
       "<style scoped>\n",
       "    .dataframe tbody tr th:only-of-type {\n",
       "        vertical-align: middle;\n",
       "    }\n",
       "\n",
       "    .dataframe tbody tr th {\n",
       "        vertical-align: top;\n",
       "    }\n",
       "\n",
       "    .dataframe thead th {\n",
       "        text-align: right;\n",
       "    }\n",
       "</style>\n",
       "<table border=\"1\" class=\"dataframe\">\n",
       "  <thead>\n",
       "    <tr style=\"text-align: right;\">\n",
       "      <th></th>\n",
       "      <th>0</th>\n",
       "      <th>1</th>\n",
       "    </tr>\n",
       "  </thead>\n",
       "  <tbody>\n",
       "    <tr>\n",
       "      <th>0</th>\n",
       "      <td>spam</td>\n",
       "      <td>../data/inmail.1</td>\n",
       "    </tr>\n",
       "    <tr>\n",
       "      <th>1</th>\n",
       "      <td>ham</td>\n",
       "      <td>../data/inmail.2</td>\n",
       "    </tr>\n",
       "    <tr>\n",
       "      <th>2</th>\n",
       "      <td>spam</td>\n",
       "      <td>../data/inmail.3</td>\n",
       "    </tr>\n",
       "    <tr>\n",
       "      <th>3</th>\n",
       "      <td>spam</td>\n",
       "      <td>../data/inmail.4</td>\n",
       "    </tr>\n",
       "    <tr>\n",
       "      <th>4</th>\n",
       "      <td>spam</td>\n",
       "      <td>../data/inmail.5</td>\n",
       "    </tr>\n",
       "  </tbody>\n",
       "</table>\n",
       "</div>"
      ],
      "text/plain": [
       "      0                 1\n",
       "0  spam  ../data/inmail.1\n",
       "1   ham  ../data/inmail.2\n",
       "2  spam  ../data/inmail.3\n",
       "3  spam  ../data/inmail.4\n",
       "4  spam  ../data/inmail.5"
      ]
     },
     "execution_count": 3,
     "metadata": {},
     "output_type": "execute_result"
    }
   ],
   "source": [
    "# Reading the labels\n",
    "labels = pd.read_csv(LABEL_PATH, sep=' ', header=None)\n",
    "\n",
    "labels.head()"
   ]
  },
  {
   "cell_type": "code",
   "execution_count": 4,
   "metadata": {},
   "outputs": [
    {
     "data": {
      "text/html": [
       "<div>\n",
       "<style scoped>\n",
       "    .dataframe tbody tr th:only-of-type {\n",
       "        vertical-align: middle;\n",
       "    }\n",
       "\n",
       "    .dataframe tbody tr th {\n",
       "        vertical-align: top;\n",
       "    }\n",
       "\n",
       "    .dataframe thead th {\n",
       "        text-align: right;\n",
       "    }\n",
       "</style>\n",
       "<table border=\"1\" class=\"dataframe\">\n",
       "  <thead>\n",
       "    <tr style=\"text-align: right;\">\n",
       "      <th></th>\n",
       "      <th>label</th>\n",
       "      <th>id</th>\n",
       "    </tr>\n",
       "  </thead>\n",
       "  <tbody>\n",
       "    <tr>\n",
       "      <th>0</th>\n",
       "      <td>1</td>\n",
       "      <td>inmail.1</td>\n",
       "    </tr>\n",
       "    <tr>\n",
       "      <th>1</th>\n",
       "      <td>0</td>\n",
       "      <td>inmail.2</td>\n",
       "    </tr>\n",
       "    <tr>\n",
       "      <th>2</th>\n",
       "      <td>1</td>\n",
       "      <td>inmail.3</td>\n",
       "    </tr>\n",
       "    <tr>\n",
       "      <th>3</th>\n",
       "      <td>1</td>\n",
       "      <td>inmail.4</td>\n",
       "    </tr>\n",
       "    <tr>\n",
       "      <th>4</th>\n",
       "      <td>1</td>\n",
       "      <td>inmail.5</td>\n",
       "    </tr>\n",
       "  </tbody>\n",
       "</table>\n",
       "</div>"
      ],
      "text/plain": [
       "   label        id\n",
       "0      1  inmail.1\n",
       "1      0  inmail.2\n",
       "2      1  inmail.3\n",
       "3      1  inmail.4\n",
       "4      1  inmail.5"
      ]
     },
     "execution_count": 4,
     "metadata": {},
     "output_type": "execute_result"
    }
   ],
   "source": [
    "# Dropping any na values\n",
    "labels.dropna(inplace=True)\n",
    "\n",
    "# Adding columns to the DF\n",
    "labels.columns = ['label', 'id']\n",
    "\n",
    "# Chaging to word spam and ham to 1 and 0\n",
    "labels['label'] = labels['label'].apply(lambda x: 1 if x=='spam' else 0)\n",
    "\n",
    "# For id column, storing just the id\n",
    "labels['id'] = labels['id'].apply(lambda x: x.split('/')[2])\n",
    "\n",
    "labels.head()"
   ]
  },
  {
   "cell_type": "code",
   "execution_count": 5,
   "metadata": {},
   "outputs": [],
   "source": [
    "# Saving the file to a CSV file\n",
    "labels.to_csv('data/processed_labels.csv', index=False)\n",
    "del labels"
   ]
  },
  {
   "cell_type": "code",
   "execution_count": 6,
   "metadata": {},
   "outputs": [
    {
     "data": {
      "text/plain": [
       "['inmail.57004',\n",
       " 'inmail.7847',\n",
       " 'inmail.64696',\n",
       " 'inmail.60936',\n",
       " 'inmail.53892',\n",
       " 'inmail.73981',\n",
       " 'inmail.36762',\n",
       " 'inmail.32477',\n",
       " 'inmail.54242',\n",
       " 'inmail.41862']"
      ]
     },
     "execution_count": 6,
     "metadata": {},
     "output_type": "execute_result"
    }
   ],
   "source": [
    "# Making a list of all possible emails\n",
    "emails = os.listdir(DATA_PATH)\n",
    "\n",
    "emails[:10]"
   ]
  },
  {
   "cell_type": "code",
   "execution_count": 7,
   "metadata": {},
   "outputs": [
    {
     "data": {
      "text/plain": [
       "75419"
      ]
     },
     "execution_count": 7,
     "metadata": {},
     "output_type": "execute_result"
    }
   ],
   "source": [
    "len(emails)"
   ]
  },
  {
   "cell_type": "code",
   "execution_count": 15,
   "metadata": {},
   "outputs": [
    {
     "name": "stderr",
     "output_type": "stream",
     "text": [
      "  0%|          | 0/75419 [00:00<?, ?it/s]\n"
     ]
    }
   ],
   "source": [
    "subjects = []\n",
    "for file in tqdm(emails):\n",
    "    with open(os.path.join(DATA_PATH, file), \"r\", encoding='ISO-8859-1') as f:\n",
    "        text = f.read()\n",
    "        \n",
    "        lines = text.split('\\n')\n",
    "        \n",
    "        # Extracting the subject\n",
    "        message = '';\n",
    "        for line in lines:\n",
    "            if line.find('Subject: ') > -1:\n",
    "                subjects.append(line[9:])\n",
    "            \n",
    "            if not re.findall(r\".:.\", line):\n",
    "                message += line + \"\\n\"\n",
    "            \n",
    "        break"
   ]
  },
  {
   "cell_type": "code",
   "execution_count": 17,
   "metadata": {},
   "outputs": [
    {
     "data": {
      "text/plain": [
       "'\\tby flax9.uwaterloo.ca (8.12.8/8.12.5) with SMTP id l5DNj8L9013945\\n\\ttests=BAYES_50,DKIM_SIGNED,DKIM_VERIFIED,DK_POLICY_TESTING,DK_SIGNED,DK_VERIFIED,SPF_PASS\\n  s=s1024; d=yahoo.com;\\n  b=OjsU7eqARMmDhheCvrx8Da6Xv/aVpFb8M32LsEXjz7GYZ6JfyEpD4gim5psa67k9rUy0V/WaKT45stoHZ6VNXKMFCCUAGx+xZat6KsucFahBtSNJ6qSla0FSOJi+ZHL8v7KxYK57MTYb2NeHFSaC2F/tSoTtBiq+mQvbmcSdp10=;\\n\\n> \\n> #!/usr/bin/perl -w\\n> \\n> use strict;\\n> \\n> my $program = \"vi\";\\n> my $status  = `/bin/ps cat | /bin/grep $program`;\\n> \\n> if ( length($status) > 0 ) {\\n>     print \"$status\";                       #extract\\n> pid from here\\n> }\\n> else { print \"$program not running\\\\n\" }    # start\\n> program\\n> \\n> ================================================\\n>\\n\\nThis will work, in the past I have used \\n\\nand \\n\\n\\n\\n       \\n____________________________________________________________________________________\\nGet the free Yahoo! toolbar and rest assured with the added security of spyware protection.\\n\\n-- \\n\\n\\n\\n'"
      ]
     },
     "execution_count": 17,
     "metadata": {},
     "output_type": "execute_result"
    }
   ],
   "source": [
    "message"
   ]
  },
  {
   "cell_type": "code",
   "execution_count": null,
   "metadata": {},
   "outputs": [],
   "source": []
  }
 ],
 "metadata": {
  "kernelspec": {
   "display_name": "Python 3",
   "language": "python",
   "name": "python3"
  },
  "language_info": {
   "codemirror_mode": {
    "name": "ipython",
    "version": 3
   },
   "file_extension": ".py",
   "mimetype": "text/x-python",
   "name": "python",
   "nbconvert_exporter": "python",
   "pygments_lexer": "ipython3",
   "version": "3.9.1"
  }
 },
 "nbformat": 4,
 "nbformat_minor": 4
}
